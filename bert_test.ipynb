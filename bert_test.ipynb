{
  "nbformat": 4,
  "nbformat_minor": 0,
  "metadata": {
    "colab": {
      "provenance": []
    },
    "kernelspec": {
      "name": "python3",
      "display_name": "Python 3"
    },
    "language_info": {
      "name": "python"
    }
  },
  "cells": [
    {
      "cell_type": "code",
      "execution_count": 1,
      "metadata": {
        "colab": {
          "base_uri": "https://localhost:8080/"
        },
        "id": "qJ1s-GtfSiy5",
        "outputId": "5da60c03-ec60-423d-fa36-950d19049b3c"
      },
      "outputs": [
        {
          "output_type": "stream",
          "name": "stdout",
          "text": [
            "\u001b[2K     \u001b[90m━━━━━━━━━━━━━━━━━━━━━━━━━━━━━━━━━━━━━━━━\u001b[0m \u001b[32m5.8/5.8 MB\u001b[0m \u001b[31m49.4 MB/s\u001b[0m eta \u001b[36m0:00:00\u001b[0m\n",
            "\u001b[2K     \u001b[90m━━━━━━━━━━━━━━━━━━━━━━━━━━━━━━━━━━━━━━━━\u001b[0m \u001b[32m2.3/2.3 MB\u001b[0m \u001b[31m27.1 MB/s\u001b[0m eta \u001b[36m0:00:00\u001b[0m\n",
            "\u001b[2K     \u001b[90m━━━━━━━━━━━━━━━━━━━━━━━━━━━━━━━━━━━━━━\u001b[0m \u001b[32m630.1/630.1 KB\u001b[0m \u001b[31m52.2 MB/s\u001b[0m eta \u001b[36m0:00:00\u001b[0m\n",
            "\u001b[2K     \u001b[90m━━━━━━━━━━━━━━━━━━━━━━━━━━━━━━━━━━━━━━━━\u001b[0m \u001b[32m1.1/1.1 MB\u001b[0m \u001b[31m74.2 MB/s\u001b[0m eta \u001b[36m0:00:00\u001b[0m\n",
            "\u001b[2K     \u001b[90m━━━━━━━━━━━━━━━━━━━━━━━━━━━━━━━━━━━━━━\u001b[0m \u001b[32m118.9/118.9 KB\u001b[0m \u001b[31m14.5 MB/s\u001b[0m eta \u001b[36m0:00:00\u001b[0m\n",
            "\u001b[2K     \u001b[90m━━━━━━━━━━━━━━━━━━━━━━━━━━━━━━━━━━━━━━━━\u001b[0m \u001b[32m38.2/38.2 MB\u001b[0m \u001b[31m15.3 MB/s\u001b[0m eta \u001b[36m0:00:00\u001b[0m\n",
            "\u001b[2K     \u001b[90m━━━━━━━━━━━━━━━━━━━━━━━━━━━━━━━━━━━━━━━━\u001b[0m \u001b[32m1.3/1.3 MB\u001b[0m \u001b[31m82.3 MB/s\u001b[0m eta \u001b[36m0:00:00\u001b[0m\n",
            "\u001b[2K     \u001b[90m━━━━━━━━━━━━━━━━━━━━━━━━━━━━━━━━━━━━━━━━\u001b[0m \u001b[32m43.6/43.6 KB\u001b[0m \u001b[31m6.7 MB/s\u001b[0m eta \u001b[36m0:00:00\u001b[0m\n",
            "\u001b[?25h  Preparing metadata (setup.py) ... \u001b[?25l\u001b[?25hdone\n",
            "\u001b[2K     \u001b[90m━━━━━━━━━━━━━━━━━━━━━━━━━━━━━━━━━━━━━━\u001b[0m \u001b[32m238.9/238.9 KB\u001b[0m \u001b[31m17.7 MB/s\u001b[0m eta \u001b[36m0:00:00\u001b[0m\n",
            "\u001b[?25h  Building wheel for seqeval (setup.py) ... \u001b[?25l\u001b[?25hdone\n"
          ]
        }
      ],
      "source": [
        "!pip install -q -U \"tensorflow-text==2.11.*\"\n",
        "\n",
        "!pip install -q tf-models-official==2.11.0\n",
        "\n",
        "import pandas as pd\n",
        "import os\n",
        "import shutil\n",
        "\n",
        "import tensorflow as tf\n",
        "import tensorflow_hub as hub\n",
        "import tensorflow_text as text\n",
        "from official.nlp import optimization  # to create AdamW optimizer\n",
        "\n",
        "import matplotlib.pyplot as plt\n",
        "\n",
        "# DATASET HERE\n",
        "csv_filename = 'new_test_set_0.csv'\n",
        "\n",
        "data = pd.read_csv(csv_filename)\n",
        "\n",
        "train_path = csv_filename.replace('.csv', '') + '/train'"
      ]
    },
    {
      "cell_type": "code",
      "source": [
        "#  DATA FORMATING\n",
        "folderClass = lambda score: f'./{train_path}/class_hit' if bool(score) else f'./{train_path}/class_flop'\n",
        "\n",
        "for index, row in data.iterrows():\n",
        "  score = int(row['target'])\n",
        "  lyric = str(row['Lyrics'])\n",
        "  lyric = lyric.split('...')[0]\n",
        "  class_folder = folderClass(score)\n",
        "\n",
        "  if not os.path.exists(class_folder):\n",
        "    os.makedirs(class_folder)\n",
        "  \n",
        "  file_path = os.path.join(class_folder, str(index)+\".txt\")\n",
        "  with open(file_path, 'w') as train_file:\n",
        "    train_file.write(lyric)"
      ],
      "metadata": {
        "id": "m7ZqNs2mS7Im"
      },
      "execution_count": 3,
      "outputs": []
    },
    {
      "cell_type": "code",
      "source": [
        "# DATA LOADING\n",
        "# SET HYPERPARAMETERS\n",
        "AUTOTUNE = tf.data.AUTOTUNE\n",
        "batch_size = 32\n",
        "seed = 42\n",
        "\n",
        "# LOAD TRAINING DATA\n",
        "raw_train_ds = tf.keras.utils.text_dataset_from_directory(\n",
        "    train_path,\n",
        "    batch_size=batch_size,\n",
        "    shuffle=True,\n",
        "    seed=seed,\n",
        "    validation_split=0.2,\n",
        "    subset='training')\n",
        "\n",
        "train_ds = raw_train_ds.cache().prefetch(buffer_size=AUTOTUNE)\n",
        "\n",
        "# LOAD VALIDATION DATA\n",
        "val_ds = tf.keras.utils.text_dataset_from_directory(\n",
        "    train_path,\n",
        "    batch_size=batch_size,\n",
        "    shuffle=True,\n",
        "    seed=seed,\n",
        "    validation_split=0.2,\n",
        "    subset='validation')\n",
        "\n",
        "val_ds = val_ds.cache().prefetch(buffer_size=AUTOTUNE)\n",
        "\n",
        "# test_ds = tf.keras.utils.text_dataset_from_directory(\n",
        "#     '/test',\n",
        "#     batch_size=batch_size)\n",
        "\n",
        "# test_ds = test_ds.cache().prefetch(buffer_size=AUTOTUNE)\n",
        "\n",
        "# class_names = raw_train_ds.class_names"
      ],
      "metadata": {
        "colab": {
          "base_uri": "https://localhost:8080/"
        },
        "id": "cE_ATeX_URjJ",
        "outputId": "47271ea5-5762-4173-d7e7-c7849b08722c"
      },
      "execution_count": 17,
      "outputs": [
        {
          "output_type": "stream",
          "name": "stdout",
          "text": [
            "Found 521 files belonging to 2 classes.\n",
            "Using 417 files for training.\n",
            "Found 521 files belonging to 2 classes.\n",
            "Using 104 files for validation.\n"
          ]
        }
      ]
    },
    {
      "cell_type": "code",
      "source": [
        "# IMPORT BERT PREPROCESSOR AND ENCODER\n",
        "tfhub_handle_preprocess = 'https://tfhub.dev/tensorflow/bert_en_uncased_preprocess/3'\n",
        "tfhub_handle_encoder = 'https://tfhub.dev/tensorflow/small_bert/bert_en_uncased_L-4_H-512_A-8/1'\n",
        "\n",
        "bert_preprocess_model = hub.KerasLayer(tfhub_handle_preprocess)\n",
        "bert_model = hub.KerasLayer(tfhub_handle_encoder)"
      ],
      "metadata": {
        "id": "w2aX3Jc1V9xT"
      },
      "execution_count": 10,
      "outputs": []
    },
    {
      "cell_type": "code",
      "source": [
        "# BUILD MODEL\n",
        "def build_classifier_model():\n",
        "  text_input = tf.keras.layers.Input(shape=(), dtype=tf.string, name='text')\n",
        "  preprocessing_layer = hub.KerasLayer(tfhub_handle_preprocess, name='preprocessing')\n",
        "  encoder_inputs = preprocessing_layer(text_input)\n",
        "  encoder = hub.KerasLayer(tfhub_handle_encoder, trainable=True, name='BERT_encoder')\n",
        "  outputs = encoder(encoder_inputs)\n",
        "  net = outputs['pooled_output']\n",
        "  net = tf.keras.layers.Dropout(0.1)(net)\n",
        "  net = tf.keras.layers.Dense(64, activation='relu', name='preclass')(net)\n",
        "  net = tf.keras.layers.Dense(1, activation='sigmoid', name='classifier')(net)\n",
        "  return tf.keras.Model(text_input, net)"
      ],
      "metadata": {
        "id": "QKl_5vhgWAL2"
      },
      "execution_count": 18,
      "outputs": []
    },
    {
      "cell_type": "code",
      "source": [
        "# LOAD HYPERPARAMETERS\n",
        "classifier_model = build_classifier_model()\n",
        "\n",
        "loss = tf.keras.losses.BinaryCrossentropy()\n",
        "metrics = tf.metrics.BinaryAccuracy()\n",
        "\n",
        "epochs = 10\n",
        "steps_per_epoch = tf.data.experimental.cardinality(train_ds).numpy()\n",
        "num_train_steps = steps_per_epoch * epochs\n",
        "num_warmup_steps = int(0.1*num_train_steps)\n",
        "\n",
        "init_lr = 3e-5\n",
        "optimizer = optimization.create_optimizer(init_lr=init_lr,\n",
        "                                          num_train_steps=num_train_steps,\n",
        "                                          num_warmup_steps=num_warmup_steps,\n",
        "                                          optimizer_type='adamw')\n",
        "\n",
        "classifier_model.compile(optimizer=optimizer,\n",
        "                         loss=loss,\n",
        "                         metrics=metrics)"
      ],
      "metadata": {
        "id": "rb-xxFRLWnoL"
      },
      "execution_count": 21,
      "outputs": []
    },
    {
      "cell_type": "code",
      "source": [
        "# TRAIN MODEL\n",
        "history = classifier_model.fit(x=train_ds,\n",
        "                               validation_data=val_ds,\n",
        "                               epochs=epochs)"
      ],
      "metadata": {
        "colab": {
          "base_uri": "https://localhost:8080/"
        },
        "id": "hclRg6NEWscK",
        "outputId": "cb3c8d08-1c78-4b61-d17c-65df4b950fae"
      },
      "execution_count": null,
      "outputs": [
        {
          "output_type": "stream",
          "name": "stdout",
          "text": [
            "Epoch 1/10\n",
            "14/14 [==============================] - 99s 7s/step - loss: 0.6916 - binary_accuracy: 0.6139 - val_loss: 0.5582 - val_binary_accuracy: 0.7404\n",
            "Epoch 2/10\n",
            "14/14 [==============================] - 91s 6s/step - loss: 0.4941 - binary_accuracy: 0.7746 - val_loss: 0.4860 - val_binary_accuracy: 0.7885\n",
            "Epoch 3/10\n",
            "14/14 [==============================] - 92s 7s/step - loss: 0.3877 - binary_accuracy: 0.8441 - val_loss: 0.5064 - val_binary_accuracy: 0.7981\n",
            "Epoch 4/10\n",
            "14/14 [==============================] - 94s 7s/step - loss: 0.3712 - binary_accuracy: 0.8369 - val_loss: 0.4596 - val_binary_accuracy: 0.7885\n",
            "Epoch 5/10\n",
            " 1/14 [=>............................] - ETA: 1:17 - loss: 0.3843 - binary_accuracy: 0.8438"
          ]
        }
      ]
    },
    {
      "cell_type": "code",
      "source": [],
      "metadata": {
        "id": "rl1CP7Y4qBNt"
      },
      "execution_count": null,
      "outputs": []
    }
  ]
}